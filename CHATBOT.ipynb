{
 "cells": [
  {
   "cell_type": "code",
   "execution_count": 4,
   "id": "e992a578-1988-4568-8e18-0c83c21da858",
   "metadata": {},
   "outputs": [],
   "source": [
    "from fuzzywuzzy import fuzz\n",
    "import random"
   ]
  },
  {
   "cell_type": "code",
   "execution_count": 29,
   "id": "d0bb522e-684d-47e7-9610-8b85cbed7cae",
   "metadata": {},
   "outputs": [
    {
     "name": "stdin",
     "output_type": "stream",
     "text": [
      "You:  hi\n"
     ]
    },
    {
     "name": "stdout",
     "output_type": "stream",
     "text": [
      "Ruka:  Hi there!\n"
     ]
    },
    {
     "name": "stdin",
     "output_type": "stream",
     "text": [
      "You:  how are you\n"
     ]
    },
    {
     "name": "stdout",
     "output_type": "stream",
     "text": [
      "Ruka:  I am working fine, so I guess I am alright! How about you?\n"
     ]
    },
    {
     "name": "stdin",
     "output_type": "stream",
     "text": [
      "You:  i am fine too\n"
     ]
    },
    {
     "name": "stdout",
     "output_type": "stream",
     "text": [
      "Ruka:  Thats nice to know\n"
     ]
    },
    {
     "name": "stdin",
     "output_type": "stream",
     "text": [
      "You:  what can you do\n"
     ]
    },
    {
     "name": "stdout",
     "output_type": "stream",
     "text": [
      "Ruka:  I am an anime suggesting chatbot. I can recommend you animes based on your favourite genres.\n"
     ]
    },
    {
     "name": "stdin",
     "output_type": "stream",
     "text": [
      "You:  can you recomend me any\n"
     ]
    },
    {
     "name": "stdout",
     "output_type": "stream",
     "text": [
      "Ruka: SURE!!\n",
      "Ruka: Enter your preferred genres (comma-separated): \n"
     ]
    },
    {
     "name": "stdin",
     "output_type": "stream",
     "text": [
      "You:  action,cmdy,fantasy\n"
     ]
    },
    {
     "name": "stdout",
     "output_type": "stream",
     "text": [
      "\n",
      "Ruka: Here are some anime recommendations for you:\n",
      "- Naruto\n",
      "- Attack on Titan\n",
      "- Sword Art Online\n",
      "- One Piece\n",
      "- Fullmetal Alchemist: Brotherhood\n"
     ]
    },
    {
     "name": "stdin",
     "output_type": "stream",
     "text": [
      "\n",
      "Ruka: Would you like more recommendations? \n",
      "You: (yes/no) yes\n"
     ]
    },
    {
     "name": "stdout",
     "output_type": "stream",
     "text": [
      "Ruka: Enter your preferred genres (comma-separated): \n"
     ]
    },
    {
     "name": "stdin",
     "output_type": "stream",
     "text": [
      "You:  slice of life\n"
     ]
    },
    {
     "name": "stdout",
     "output_type": "stream",
     "text": [
      "\n",
      "Ruka: Here are some anime recommendations for you:\n",
      "- March Comes in Like a Lion\n",
      "- K-On!\n",
      "- Barakamon\n",
      "- Hyouka\n",
      "- Toradora!\n"
     ]
    },
    {
     "name": "stdin",
     "output_type": "stream",
     "text": [
      "\n",
      "Ruka: Would you like more recommendations? \n",
      "You: (yes/no) no\n"
     ]
    },
    {
     "name": "stdout",
     "output_type": "stream",
     "text": [
      "Ruka: Have a nice day! See you again later!\n"
     ]
    }
   ],
   "source": [
    "# Define anime recommendations for each genre\n",
    "anime_recommendations = {\n",
    "    \"action\": [\"Attack on Titan\", \"My Hero Academia\", \"One Piece\", \"Naruto\", \"Dragon Ball Z\"],\n",
    "    \"adventure\": [\"Fullmetal Alchemist: Brotherhood\", \"Hunter x Hunter\", \"One Piece\", \"Naruto\", \"Attack on Titan\"],\n",
    "    \"comedy\": [\"One Punch Man\", \"Gintama\", \"Konosuba\", \"Nichijou\", \"The Devil is a Part-Timer!\"],\n",
    "    \"drama\": [\"Your Lie in April\", \"Clannad\", \"Anohana\", \"Violet Evergarden\", \"Steins;Gate\"],\n",
    "    \"fantasy\": [\"Sword Art Online\", \"Attack on Titan\", \"Fullmetal Alchemist: Brotherhood\", \"Re:Zero\", \"Fairy Tail\"],\n",
    "    \"sci-fi\": [\"Steins;Gate\", \"Cowboy Bebop\", \"Neon Genesis Evangelion\", \"Ghost in the Shell\", \"Code Geass\"],\n",
    "    \"slice of life\": [\"K-On!\", \"Barakamon\", \"Hyouka\", \"March Comes in Like a Lion\", \"Toradora!\"]\n",
    "}\n",
    "casual={'how are you?':'I am working fine, so I guess I am alright! How about you?',\n",
    "        'i am ok,fine': 'Thats nice to know',\n",
    "        'what is your name?': 'My name is Ruka',\n",
    "        'who are you': 'I am Ruka. I am an anime suggesting chatbot',\n",
    "        'what can you do?': 'I am an anime suggesting chatbot. I can recommend you animes based on your favourite genres.'}\n",
    "\n",
    "# Function to find the closest match for genres\n",
    "def find_closest_genre(user_input):\n",
    "    matches = []\n",
    "    for genre in anime_recommendations.keys():\n",
    "        ratio = fuzz.ratio(user_input, genre)\n",
    "        if ratio > 70:  # Adjust threshold as needed\n",
    "            matches.append((genre, ratio))\n",
    "    if matches:\n",
    "        closest_match = max(matches, key=lambda x: x[1])[0]\n",
    "        return closest_match\n",
    "    else:\n",
    "        return None\n",
    "\n",
    "def suggest_anime(genres):\n",
    "    recommendations = []\n",
    "    for genre in genres:\n",
    "        closest_genre = find_closest_genre(genre)\n",
    "        if closest_genre:\n",
    "            recommendations.extend(anime_recommendations[closest_genre])\n",
    "    return recommendations\n",
    "\n",
    "\n",
    "def suggest():\n",
    "    while True:\n",
    "        print('Ruka: Enter your preferred genres (comma-separated): ')\n",
    "        user_input = input(\"You: \").lower()\n",
    "        user_genres = [genre.strip() for genre in user_input.split(\",\")]\n",
    "       \n",
    "        recommendations = suggest_anime(user_genres)\n",
    "        if recommendations:\n",
    "            print(\"\\nRuka: Here are some anime recommendations for you:\")\n",
    "            for recommendation in random.sample(recommendations, min(len(recommendations), 5)):\n",
    "                print(\"-\", recommendation)\n",
    "        else:\n",
    "            print(\"\\nRuka: Sorry, I couldn't find any recommendations for the specified genres.\")\n",
    "       \n",
    "        continue_chat = input(\"\\nRuka: Would you like more recommendations? \\nYou: (yes/no)\").lower()\n",
    "        while continue_chat not in ('y','n','no','yes'):\n",
    "            continue_chat = input(\"\\nRuka: Could'nt understand you. \\n Would you like more recommendations? \\nYou: (yes/no)\").lower()\n",
    "        if continue_chat not in ('y','yes'):\n",
    "            print(\"Ruka: Have a nice day! See you again later!\")\n",
    "            break\n",
    "    return \n",
    "\n",
    "def chating(inp):\n",
    "    if 'recom' in inp or 'sug' in inp:\n",
    "        print(\"Ruka: SURE!!\")\n",
    "        suggest()\n",
    "        return True\n",
    "    \n",
    "    if 'hi' in inp or 'hey' in inp or 'hello' in inp:\n",
    "        print('Ruka: ',random.choice([\"Hello!\", \"Hi there!\", \"Hey!\", \"how you doin?\", \"Howdy!\"]))\n",
    "        return False\n",
    "        \n",
    "    matches = []\n",
    "    for chat in casual.keys():\n",
    "        ratio = fuzz.ratio(inp, chat)\n",
    "        if ratio > 50:  # Adjust threshold as needed\n",
    "            matches.append((chat, ratio))\n",
    "    if matches:\n",
    "        closest_match = max(matches, key=lambda x: x[1])[0]\n",
    "        print('Ruka: ',casual[closest_match])\n",
    "        return False\n",
    "    else: \n",
    "        print(\"Ruka: I could'nt quite undersand you. Can you rephrase the sentence\")\n",
    "    \n",
    "while True:\n",
    "    inp=input('You: ').lower()\n",
    "    if chating(inp): break"
   ]
  },
  {
   "cell_type": "code",
   "execution_count": null,
   "id": "6eaafc39-d869-4653-bb8a-809a99424b1a",
   "metadata": {},
   "outputs": [],
   "source": []
  }
 ],
 "metadata": {
  "kernelspec": {
   "display_name": "Python 3 (ipykernel)",
   "language": "python",
   "name": "python3"
  },
  "language_info": {
   "codemirror_mode": {
    "name": "ipython",
    "version": 3
   },
   "file_extension": ".py",
   "mimetype": "text/x-python",
   "name": "python",
   "nbconvert_exporter": "python",
   "pygments_lexer": "ipython3",
   "version": "3.11.7"
  }
 },
 "nbformat": 4,
 "nbformat_minor": 5
}
