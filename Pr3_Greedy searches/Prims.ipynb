{
 "cells": [
  {
   "cell_type": "code",
   "execution_count": null,
   "id": "bc9d9d7a",
   "metadata": {},
   "outputs": [],
   "source": []
  },
  {
   "cell_type": "code",
   "execution_count": 1,
   "id": "cf62d2d5",
   "metadata": {},
   "outputs": [],
   "source": [
    "def ip_graph(gr_n): #Module for graph preprocessing\n",
    "    raw=open(gr_n, 'r' ) #opening file in read mode\n",
    "    graph=raw.read().splitlines() #spliting input graph into separate lines\n",
    "    raw.close() #closing file\n",
    "    N=len(graph) #count no. of lines to find no. of nodes\n",
    "    graph=[i.split() for i in graph] #spliting each digit of each line in graph\n",
    "    for row in range(N):\n",
    "        for num in range(N):\n",
    "            graph[row][num]=int(graph[row][num]) #converting digits into integer values and forming graph\n",
    "        print(graph[row]) #display graph\n",
    "    return N, graph #return no. of nodes and graph\n",
    "    "
   ]
  },
  {
   "cell_type": "code",
   "execution_count": 2,
   "id": "992f24e9",
   "metadata": {},
   "outputs": [],
   "source": [
    "#function to find Minimum Spanning Tree using Prims Algorithm\n",
    "def prims(N, G, selected_node, no_edge):\n",
    "# printing for edge and weight\n",
    "    print(\"Edge : Weight\\n\")\n",
    "    while (no_edge < N - 1): #selecting edge\n",
    "\n",
    "        minimum = float('inf') #searching for minimal edge\n",
    "        a = 0\n",
    "        b = 0\n",
    "        for m in range(N):\n",
    "            if selected_node[m]: \n",
    "                for n in range(N):\n",
    "                    if ((not selected_node[n]) and G[m][n]):  #searching for edges between selected node and every other node\n",
    "                        # not in selected and there is an edge\n",
    "                        if minimum > G[m][n]: #selecting minimal edge for tree\n",
    "                            minimum = G[m][n]\n",
    "                            a = m\n",
    "                            b = n\n",
    "        print(str(a+1) + \"-\" + str(b+1) + \":\" + str(G[a][b])) #printing minimal edge\n",
    "        selected_node[b] = True #incrementing selected node\n",
    "        no_edge += 1"
   ]
  },
  {
   "cell_type": "code",
   "execution_count": 4,
   "id": "b07d5a88",
   "metadata": {},
   "outputs": [
    {
     "name": "stdout",
     "output_type": "stream",
     "text": [
      "Enter the graph filename: prims_graph.txt\n",
      "[0, 1, 7, 0, 3]\n",
      "[1, 0, 0, 0, 5]\n",
      "[7, 0, 0, 6, 4]\n",
      "[0, 0, 6, 0, 2]\n",
      "[3, 5, 4, 2, 0]\n",
      "Edge : Weight\n",
      "\n",
      "1-2:1\n",
      "1-5:3\n",
      "5-4:2\n",
      "5-3:4\n"
     ]
    }
   ],
   "source": [
    "gr_n=input('Enter the graph filename: ') #input for graph filename\n",
    "\n",
    "no_edge =0 #to know which node is selected\n",
    "\n",
    "N, G=ip_graph(gr_n) #calling graph preprocessor by sending graph filename as parameter\n",
    "\n",
    "selected_node = [0 for i in range(N)] #to maintain selected node\n",
    "selected_node[0] = True\n",
    "\n",
    "prims(N, G, selected_node, no_edge) #calling function to find Minimum Spanning Tree using prims algorithm"
   ]
  },
  {
   "cell_type": "code",
   "execution_count": null,
   "id": "391ded47",
   "metadata": {},
   "outputs": [],
   "source": []
  }
 ],
 "metadata": {
  "kernelspec": {
   "display_name": "Python 3 (ipykernel)",
   "language": "python",
   "name": "python3"
  },
  "language_info": {
   "codemirror_mode": {
    "name": "ipython",
    "version": 3
   },
   "file_extension": ".py",
   "mimetype": "text/x-python",
   "name": "python",
   "nbconvert_exporter": "python",
   "pygments_lexer": "ipython3",
   "version": "3.11.4"
  }
 },
 "nbformat": 4,
 "nbformat_minor": 5
}
