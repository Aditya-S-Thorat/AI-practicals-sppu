{
 "cells": [
  {
   "cell_type": "code",
   "execution_count": 8,
   "id": "f20ab315",
   "metadata": {},
   "outputs": [
    {
     "name": "stdout",
     "output_type": "stream",
     "text": [
      "Enter numbers in array with <space> between them: 1 4 2 5 6 7 4 6 54 5 \n",
      "[1, 2, 4, 4, 5, 5, 6, 6, 7, 54]\n"
     ]
    }
   ],
   "source": [
    "array= list(map(int,input('Enter numbers in array with <space> between them: ').split()))\n",
    "for i in range(len(array)):\n",
    "    temp=i\n",
    "    for j in range(i+1,len(array)):\n",
    "           if array[j]<array[temp]: temp=j\n",
    "    array[i],array[temp] = array[temp], array[i]\n",
    "print(array)"
   ]
  },
  {
   "cell_type": "code",
   "execution_count": null,
   "id": "7ac16544",
   "metadata": {},
   "outputs": [],
   "source": []
  }
 ],
 "metadata": {
  "kernelspec": {
   "display_name": "Python 3 (ipykernel)",
   "language": "python",
   "name": "python3"
  },
  "language_info": {
   "codemirror_mode": {
    "name": "ipython",
    "version": 3
   },
   "file_extension": ".py",
   "mimetype": "text/x-python",
   "name": "python",
   "nbconvert_exporter": "python",
   "pygments_lexer": "ipython3",
   "version": "3.11.4"
  }
 },
 "nbformat": 4,
 "nbformat_minor": 5
}
